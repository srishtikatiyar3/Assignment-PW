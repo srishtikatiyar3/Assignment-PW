{
 "cells": [
  {
   "cell_type": "code",
   "execution_count": 1,
   "id": "d2c884c5-20f8-4524-8518-74abc17f758f",
   "metadata": {},
   "outputs": [
    {
     "name": "stdout",
     "output_type": "stream",
     "text": [
      "<class 'float'> 6.0\n"
     ]
    }
   ],
   "source": [
    "a=6\n",
    "b=float(a)\n",
    "print(type(b),b)"
   ]
  },
  {
   "cell_type": "code",
   "execution_count": 2,
   "id": "9c8432e4-9055-4594-8eed-fb0b1a05481b",
   "metadata": {},
   "outputs": [
    {
     "name": "stdout",
     "output_type": "stream",
     "text": [
      "<class 'int'> 88\n"
     ]
    }
   ],
   "source": [
    "a=88.55\n",
    "b=int(a)\n",
    "print(type(b),b)"
   ]
  },
  {
   "cell_type": "code",
   "execution_count": 3,
   "id": "72a94ff2-1b9b-492f-973c-c4ab2d25e332",
   "metadata": {},
   "outputs": [
    {
     "name": "stdout",
     "output_type": "stream",
     "text": [
      "<class 'str'> 55\n"
     ]
    }
   ],
   "source": [
    "a=55\n",
    "b=str(a)\n",
    "print(type(b),b)"
   ]
  },
  {
   "cell_type": "code",
   "execution_count": 4,
   "id": "a4885246-a395-404f-8145-248da8ae744b",
   "metadata": {},
   "outputs": [
    {
     "name": "stdout",
     "output_type": "stream",
     "text": [
      "<class 'tuple'> (12, 55, 77, 300, 'knp')\n"
     ]
    }
   ],
   "source": [
    "list1=[12,55,77,300,\"knp\"]\n",
    "b=tuple(list1)\n",
    "print(type(b),b)"
   ]
  },
  {
   "cell_type": "code",
   "execution_count": 5,
   "id": "10a5d815-1eaa-4dd4-bdd3-c7f1d92217e2",
   "metadata": {},
   "outputs": [
    {
     "name": "stdout",
     "output_type": "stream",
     "text": [
      "<class 'list'> [22, 44, 66, 88, 99]\n"
     ]
    }
   ],
   "source": [
    "tup1=(22,44,66,88,99)\n",
    "b=list(tup1)\n",
    "print(type(b),b)"
   ]
  },
  {
   "cell_type": "code",
   "execution_count": 7,
   "id": "75027cf8-1bc6-46ee-b0e3-e64fa0f1e562",
   "metadata": {},
   "outputs": [
    {
     "name": "stdout",
     "output_type": "stream",
     "text": [
      "0b1001011\n"
     ]
    }
   ],
   "source": [
    "num=75\n",
    "b=bin(num)\n",
    "print(b)"
   ]
  },
  {
   "cell_type": "code",
   "execution_count": 8,
   "id": "eeddb137-a662-4ffa-a4a1-f5940832fa4d",
   "metadata": {},
   "outputs": [
    {
     "name": "stdout",
     "output_type": "stream",
     "text": [
      "<class 'bool'> True\n"
     ]
    }
   ],
   "source": [
    "a=1\n",
    "b=bool(a)\n",
    "print(type(b),b)"
   ]
  },
  {
   "cell_type": "code",
   "execution_count": null,
   "id": "e0070ff8-30ba-4598-9b51-298a022ae632",
   "metadata": {},
   "outputs": [],
   "source": []
  }
 ],
 "metadata": {
  "kernelspec": {
   "display_name": "Python 3 (ipykernel)",
   "language": "python",
   "name": "python3"
  },
  "language_info": {
   "codemirror_mode": {
    "name": "ipython",
    "version": 3
   },
   "file_extension": ".py",
   "mimetype": "text/x-python",
   "name": "python",
   "nbconvert_exporter": "python",
   "pygments_lexer": "ipython3",
   "version": "3.12.2"
  }
 },
 "nbformat": 4,
 "nbformat_minor": 5
}
