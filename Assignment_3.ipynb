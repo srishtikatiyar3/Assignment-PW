{
 "cells": [
  {
   "cell_type": "code",
   "execution_count": 1,
   "id": "a8f804bf-66a9-441c-a9b9-b963faa1690c",
   "metadata": {},
   "outputs": [
    {
     "data": {
      "text/plain": [
       "' Python Keywords are some predefined and reserved words in Python that have special meanings.\\n    Keywords are used to define the syntax of the coding. The keyword cannot be used as an identifier, function, or variable name. \\n    All the keywords in Python are written in lowercase except True and False.\\n    Examples are - and, or, not, if, elif, else,for ,while,break, True, False,etc '"
      ]
     },
     "execution_count": 1,
     "metadata": {},
     "output_type": "execute_result"
    }
   ],
   "source": [
    "#Q-1\n",
    "\"\"\" Python Keywords are some predefined and reserved words in Python that have special meanings.\n",
    "    Keywords are used to define the syntax of the coding. The keyword cannot be used as an identifier, function, or variable name. \n",
    "    All the keywords in Python are written in lowercase except True and False.\n",
    "    Examples are - and, or, not, if, elif, else,for ,while,break, True, False,etc \"\"\"\n",
    "\n"
   ]
  },
  {
   "cell_type": "code",
   "execution_count": 2,
   "id": "d46d34ab-87b3-4c40-9049-5cafe01710dd",
   "metadata": {},
   "outputs": [
    {
     "data": {
      "text/plain": [
       "'Identifier is a user-defined name given to a variable, function, class, module, etc. \\nThe identifier is a combination of character digits and an underscore. \\nThey are case-sensitive i.e., ‘num’ and ‘Num’ and ‘NUM’ are three different identifiers in python.\\nRules-\\n1-It cannot be a reserved python keyword.\\n2-It should not contain white space.\\n3-It can be a combination of A-Z, a-z, 0-9, or underscore.\\n4-It should start with an alphabet character or an underscore ( _ ).\\n5-It should not contain any special character other than an underscore ( _ ).\\nExamples of valid identifiers- var1, _var1, _1_var, var_1\\nExamples of invalid identifiers- !var1, 1var, 1_var, var#1, var 1 '"
      ]
     },
     "execution_count": 2,
     "metadata": {},
     "output_type": "execute_result"
    }
   ],
   "source": [
    "#Q-2\n",
    "\"\"\"Identifier is a user-defined name given to a variable, function, class, module, etc. \n",
    "The identifier is a combination of character digits and an underscore. \n",
    "They are case-sensitive i.e., ‘num’ and ‘Num’ and ‘NUM’ are three different identifiers in python.\n",
    "Rules-\n",
    "1-It cannot be a reserved python keyword.\n",
    "2-It should not contain white space.\n",
    "3-It can be a combination of A-Z, a-z, 0-9, or underscore.\n",
    "4-It should start with an alphabet character or an underscore ( _ ).\n",
    "5-It should not contain any special character other than an underscore ( _ ).\n",
    "Examples of valid identifiers- var1, _var1, _1_var, var_1\n",
    "Examples of invalid identifiers- !var1, 1var, 1_var, var#1, var 1 \"\"\""
   ]
  },
  {
   "cell_type": "code",
   "execution_count": 5,
   "id": "379963a9-bc68-47d4-8bd7-25836e638d86",
   "metadata": {},
   "outputs": [
    {
     "data": {
      "text/plain": [
       "' Comments in Python are the lines in the code that are ignored by the interpreter during the execution of the program.\\nComments enhance the readability of the code and help the programmers to understand the code very carefully. \\nIt also helps in collaborating with other developers as adding comments makes it easier to explain the code. \\nThere are three types of comments in Python:\\n1-Single line Comments\\n2-Multiline Comments\\n3-String Literals\\n4-Docstring Comments\\nexmaples- '"
      ]
     },
     "execution_count": 5,
     "metadata": {},
     "output_type": "execute_result"
    }
   ],
   "source": [
    "#Q-3\n",
    "\"\"\" Comments in Python are the lines in the code that are ignored by the interpreter during the execution of the program.\n",
    "Comments enhance the readability of the code and help the programmers to understand the code very carefully. \n",
    "It also helps in collaborating with other developers as adding comments makes it easier to explain the code. \n",
    "There are three types of comments in Python:\n",
    "1-Single line Comments\n",
    "2-Multiline Comments\n",
    "3-String Literals\n",
    "4-Docstring Comments\n",
    "exmaples- \"\"\"\n",
    "#I am single line comment \n",
    "\n"
   ]
  },
  {
   "cell_type": "code",
   "execution_count": 8,
   "id": "a912a3ef-c6f9-4eb9-9d51-7d4644e6b602",
   "metadata": {},
   "outputs": [
    {
     "data": {
      "text/plain": [
       "'Indentation is a very important concept of Python because without properly indenting the Python code, \\nyou will end up seeing IndentationError and the code will not get compiled.\\nPython indentation is a way of telling a Python interpreter that the group of statements belongs to a particular block of code. \\nA block is a combination of all these statements. Block can be regarded as the grouping of statements for a specific purpose. \\n'"
      ]
     },
     "execution_count": 8,
     "metadata": {},
     "output_type": "execute_result"
    }
   ],
   "source": [
    "#Q-4\n",
    "\"\"\"Indentation is a very important concept of Python because without properly indenting the Python code, \n",
    "you will end up seeing IndentationError and the code will not get compiled.\n",
    "Python indentation is a way of telling a Python interpreter that the group of statements belongs to a particular block of code. \n",
    "A block is a combination of all these statements. Block can be regarded as the grouping of statements for a specific purpose. \n",
    "\"\"\""
   ]
  },
  {
   "cell_type": "code",
   "execution_count": 9,
   "id": "4c3c7588-442c-4fcf-8ae6-ecd112f58bbe",
   "metadata": {},
   "outputs": [
    {
     "data": {
      "text/plain": [
       "'In Python, all the code that you type is arranged via correct whitespaces and therefore if at any instance you have a bad indentation,\\nthe overall code will not run and the interpreter will simply return an error function.'"
      ]
     },
     "execution_count": 9,
     "metadata": {},
     "output_type": "execute_result"
    }
   ],
   "source": [
    "#Q-5\n",
    "\"\"\"In Python, all the code that you type is arranged via correct whitespaces and therefore if at any instance you have a bad indentation,\n",
    "the overall code will not run and the interpreter will simply return an error function.\"\"\""
   ]
  },
  {
   "cell_type": "code",
   "execution_count": 11,
   "id": "aaac8215-5500-442d-9a7c-b08dad16f7fe",
   "metadata": {},
   "outputs": [
    {
     "data": {
      "text/plain": [
       "'A statement is a complete line of code that performs some action, while an expression is any section of the code that evaluates to a value. \\nExpressions can be combined “horizontally” into larger expressions using operators, while statements can only be combined “vertically” by writing\\none after another, or with block constructs. Every expression can be used as a statement (whose effect is to evaluate the expression and ignore\\nthe resulting value), but most statements cannot be used as expressions. '"
      ]
     },
     "execution_count": 11,
     "metadata": {},
     "output_type": "execute_result"
    }
   ],
   "source": [
    "#Q-6\n",
    "\"\"\"A statement is a complete line of code that performs some action, while an expression is any section of the code that evaluates to a value. \n",
    "Expressions can be combined “horizontally” into larger expressions using operators, while statements can only be combined “vertically” by writing\n",
    "one after another, or with block constructs. Every expression can be used as a statement (whose effect is to evaluate the expression and ignore\n",
    "the resulting value), but most statements cannot be used as expressions. \"\"\""
   ]
  },
  {
   "cell_type": "code",
   "execution_count": null,
   "id": "711712cb-278f-4820-8528-ef09f9ecf48c",
   "metadata": {},
   "outputs": [],
   "source": []
  }
 ],
 "metadata": {
  "kernelspec": {
   "display_name": "Python 3 (ipykernel)",
   "language": "python",
   "name": "python3"
  },
  "language_info": {
   "codemirror_mode": {
    "name": "ipython",
    "version": 3
   },
   "file_extension": ".py",
   "mimetype": "text/x-python",
   "name": "python",
   "nbconvert_exporter": "python",
   "pygments_lexer": "ipython3",
   "version": "3.12.2"
  }
 },
 "nbformat": 4,
 "nbformat_minor": 5
}
